{
 "cells": [
  {
   "cell_type": "code",
   "execution_count": 1,
   "metadata": {},
   "outputs": [
    {
     "data": {
      "text/plain": [
       "song_title\n",
       "Angel                 2.500000\n",
       "Little Drummer Boy    0.144421\n",
       "Closer               -0.000579\n",
       "Uptown               -0.000597\n",
       "Berlin               -0.000611\n",
       "Music                -0.000615\n",
       "Insomnia             -0.000617\n",
       "Jingle Bells         -0.000619\n",
       "Better Days          -0.000628\n",
       "Inside               -0.000628\n",
       "Name: Angel, dtype: float64"
      ]
     },
     "execution_count": 1,
     "metadata": {},
     "output_type": "execute_result"
    }
   ],
   "source": [
    "import numpy as np\n",
    "import pandas as pd\n",
    "import matplotlib.pyplot as plt\n",
    "\n",
    "Song_ratings = pd.read_csv('song_data.csv')\n",
    "\n",
    "Song_ratings.head()\n",
    "\n",
    "Song_ratings.drop(['release','year'],1, inplace = True)\n",
    "Song_ratings.head()\n",
    "\n",
    "ratings = Song_ratings.pivot_table(index=['artist_name'],columns=['song_title'],values='reviews_rating')\n",
    "ratings.head()\n",
    "ratings = ratings.dropna(thresh=5, axis=1).fillna(0,axis=1)\n",
    "ratings.shape\n",
    "ratings.head()\n",
    "\n",
    "correlation_matrix = ratings.corr(method='pearson')\n",
    "correlation_matrix.head(100)\n",
    "\n",
    "def get_same_song(song_title,rating):\n",
    "    same_songs = correlation_matrix[song_title]*(rating-2.5)\n",
    "    same_songs = same_songs.sort_values(ascending=False)\n",
    "    return same_songs\n",
    "get_same_song('Angel',5).head(10)"
   ]
  },
  {
   "cell_type": "code",
   "execution_count": null,
   "metadata": {},
   "outputs": [],
   "source": []
  }
 ],
 "metadata": {
  "kernelspec": {
   "display_name": "Python 3",
   "language": "python",
   "name": "python3"
  },
  "language_info": {
   "codemirror_mode": {
    "name": "ipython",
    "version": 3
   },
   "file_extension": ".py",
   "mimetype": "text/x-python",
   "name": "python",
   "nbconvert_exporter": "python",
   "pygments_lexer": "ipython3",
   "version": "3.8.5"
  }
 },
 "nbformat": 4,
 "nbformat_minor": 4
}
